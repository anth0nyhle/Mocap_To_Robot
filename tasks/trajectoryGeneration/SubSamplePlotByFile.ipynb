{
 "cells": [
  {
   "cell_type": "code",
   "execution_count": null,
   "metadata": {},
   "outputs": [],
   "source": [
    "import pandas as pd\n",
    "import os\n",
    "import xml.etree.ElementTree\n",
    "import sys"
   ]
  },
  {
   "cell_type": "code",
   "execution_count": null,
   "metadata": {},
   "outputs": [],
   "source": [
    "def get_first(Node):\n",
    "    for x in Node:\n",
    "        return x"
   ]
  },
  {
   "cell_type": "code",
   "execution_count": null,
   "metadata": {},
   "outputs": [],
   "source": [
    "r = xml.etree.ElementTree.parse('../../parameters/parametersM20.xml').getroot()\n",
    "libNode = get_first(r.iter(tag='mocapToRobotLibPath'))\n",
    "libPath = libNode.text\n",
    "sys.path.append(os.path.join(libPath,'externalLibs','mine'))\n",
    "import PathGraph as pg"
   ]
  },
  {
   "cell_type": "code",
   "execution_count": null,
   "metadata": {},
   "outputs": [],
   "source": [
    "%run SubSamplePlotLib.py"
   ]
  },
  {
   "cell_type": "code",
   "execution_count": null,
   "metadata": {},
   "outputs": [],
   "source": [
    "fileNode = get_first(r.iter(tag='subsamplePlotC3DFile'))\n",
    "filePath = fileNode.text\n",
    "filePath = filePath.replace('._V3D.c3d.txt','.txt')\n",
    "filePathNE = os.path.splitext(filePath)[0]\n",
    "plotFile =  filePathNE + '.' + r'plot.txt'\n",
    "indicesFile = filePathNE + '.' + r'indices.txt'\n",
    "indicesUniformFile = filePathNE + '.' + r'indicesUniform.txt'\n",
    "errorsFile = filePathNE + '.' + r'ssErrors.txt'\n",
    "errorsFileUni = filePathNE + '.' + r'ssErrorsUniform.txt'"
   ]
  },
  {
   "cell_type": "code",
   "execution_count": null,
   "metadata": {},
   "outputs": [],
   "source": [
    "#read the matlab generated CSV files\n",
    "points = pd.read_csv(plotFile, header=None)\n",
    "proxEnd = points[[0,1,2]].copy()\n",
    "distEnd = points[[3,4,5]].copy()\n",
    "rotation = points[[6,7,8]].copy()\n",
    "\n",
    "#assign them columns for plotting\n",
    "proxEnd.columns = ['x','y','z']\n",
    "distEnd.columns = ['x','y','z']\n",
    "rotation.columns = ['x','y','z']\n",
    "\n",
    "#create dataframes that contain only the kept variables\n",
    "keptIndices = pd.read_csv(indicesFile,header=None)\n",
    "keptIndicesUniform = pd.read_csv(indicesUniformFile,header=None)\n",
    "\n",
    "proxEndKept = proxEnd.iloc[keptIndices.values[0]-1]\n",
    "distEndKept = distEnd.iloc[keptIndices.values[0]-1]\n",
    "rotationKept = rotation.iloc[keptIndices.values[0]-1]\n",
    "\n",
    "proxEndKeptUni = proxEnd.iloc[keptIndicesUniform.values[0]-1]\n",
    "distEndKeptUni = distEnd.iloc[keptIndicesUniform.values[0]-1]\n",
    "rotationKeptUni = rotation.iloc[keptIndicesUniform.values[0]-1]\n",
    "\n",
    "#read the error file\n",
    "error = pd.read_csv(errorsFile, header=None)\n",
    "error.columns = ['p','d','o']\n",
    "errorUni = pd.read_csv(errorsFileUni, header=None)\n",
    "errorUni.columns = ['p','d','o']"
   ]
  },
  {
   "cell_type": "code",
   "execution_count": null,
   "metadata": {},
   "outputs": [],
   "source": [
    "cameraDist = dict(\n",
    "    up=dict(x=0, y=0, z=1),\n",
    "    center=dict(x=0, y=0, z=0),\n",
    "    eye=dict(x=3.0, y=0.6, z=0.6))"
   ]
  },
  {
   "cell_type": "code",
   "execution_count": null,
   "metadata": {},
   "outputs": [],
   "source": [
    "cameraProx = dict(\n",
    "    up=dict(x=0, y=0, z=1),\n",
    "    center=dict(x=0, y=0, z=0),\n",
    "    eye=dict(x=3.5, y=0.8, z=0.8))"
   ]
  },
  {
   "cell_type": "code",
   "execution_count": null,
   "metadata": {},
   "outputs": [],
   "source": [
    "#plot 3D\n",
    "pg.plotXYZC('graphs/proximal.html', cameraProx, (proxEnd, 'Proximal', 'red', 'lines'), \n",
    "            (proxEndKept, 'Proximal Subsample', 'blue', 'lines+markers'), (proxEndKeptUni, 'Proximal Subsample Uniform', 'green', 'lines+markers'))\n",
    "#pg.plotXYZC('graphs/distal.html', cameraDist, (distEnd, 'Distal', 'red', 'lines'), (distEndKept, 'Distal Subsample', 'blue', 'markers'))\n",
    "#pg.plotXYZC('graphs/orient.html', camera, (rotation, 'Rotation', 'Red', 'lines'), (rotationKept, 'Rotation Subsample', 'Blue', 'lines+markers'))"
   ]
  },
  {
   "cell_type": "code",
   "execution_count": null,
   "metadata": {},
   "outputs": [],
   "source": [
    "#plot 2D\n",
    "plot2DSub('graphs/2D.html', os.path.basename(filePathNE), proxEnd, proxEndKept, distEnd, distEndKept, rotation, rotationKept)"
   ]
  },
  {
   "cell_type": "code",
   "execution_count": null,
   "metadata": {},
   "outputs": [],
   "source": [
    "#plot error\n",
    "pg.plot2D1X3('graphs/error.html','Subsampling Error', (error['p']*1000, 'Proximal End', 'Index', 'Error (mm)'), (error['d']*1000, 'Distal End', 'Index', 'Error (mm)'), (error['o'], 'Orientation', 'Index', 'Error (deg)'), inline=False)\n",
    "pg.plot2D1X3('graphs/errorUni.html','Subsampling Error', (errorUni['p']*1000, 'Proximal End', 'Index', 'Error (mm)'), (errorUni['d']*1000, 'Distal End', 'Index', 'Error (mm)'), (errorUni['o'], 'Orientation', 'Index', 'Error (deg)'), inline=False)"
   ]
  }
 ],
 "metadata": {
  "anaconda-cloud": {},
  "kernelspec": {
   "display_name": "Python 3",
   "language": "python",
   "name": "python3"
  },
  "language_info": {
   "codemirror_mode": {
    "name": "ipython",
    "version": 3
   },
   "file_extension": ".py",
   "mimetype": "text/x-python",
   "name": "python",
   "nbconvert_exporter": "python",
   "pygments_lexer": "ipython3",
   "version": "3.6.8"
  },
  "nav_menu": {},
  "toc": {
   "base_numbering": 1,
   "nav_menu": {},
   "number_sections": true,
   "sideBar": true,
   "skip_h1_title": false,
   "title_cell": "Table of Contents",
   "title_sidebar": "Contents",
   "toc_cell": false,
   "toc_position": {},
   "toc_section_display": "block",
   "toc_window_display": false
  },
  "varInspector": {
   "cols": {
    "lenName": 16,
    "lenType": 16,
    "lenVar": 40
   },
   "kernels_config": {
    "python": {
     "delete_cmd_postfix": "",
     "delete_cmd_prefix": "del ",
     "library": "var_list.py",
     "varRefreshCmd": "print(var_dic_list())"
    },
    "r": {
     "delete_cmd_postfix": ") ",
     "delete_cmd_prefix": "rm(",
     "library": "var_list.r",
     "varRefreshCmd": "cat(var_dic_list()) "
    }
   },
   "types_to_exclude": [
    "module",
    "function",
    "builtin_function_or_method",
    "instance",
    "_Feature"
   ],
   "window_display": false
  }
 },
 "nbformat": 4,
 "nbformat_minor": 1
}
